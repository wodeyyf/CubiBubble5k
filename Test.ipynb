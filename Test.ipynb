{
 "cells": [
  {
   "cell_type": "code",
   "execution_count": 8,
   "outputs": [
    {
     "name": "stderr",
     "output_type": "stream",
     "text": [
      "Computing transition probabilities: 100%|██████████| 34/34 [00:00<00:00, 8504.16it/s]\n"
     ]
    },
    {
     "name": "stdout",
     "output_type": "stream",
     "text": [
      "[ 0.28514484 -0.04221686  0.2116231   0.0188372   0.08344421 -0.0103892\n",
      " -0.05717983  0.3184507   0.07445503 -0.32250842  0.10410918 -0.17345937\n",
      "  0.24409035  0.19081466 -0.11679555 -0.16427125 -0.16853112 -0.02548758\n",
      " -0.07095688  0.15460461 -0.06219084 -0.14102909  0.13700894 -0.17512676\n",
      " -0.18515624  0.24437201 -0.24921139 -0.1363613  -0.06160168 -0.11140376\n",
      "  0.13265908  0.2050384  -0.16153885 -0.23667124  0.09560542  0.15760688\n",
      "  0.06248629  0.15771586 -0.00994503  0.15170944  0.0744332   0.00262201\n",
      " -0.06972495  0.03749948 -0.03325899 -0.10649101 -0.0079513  -0.13322361\n",
      " -0.04017219  0.24009164 -0.08541903  0.2064002   0.00061492  0.21575485\n",
      "  0.11830995  0.21287231  0.18787429 -0.11136556 -0.00887822 -0.18606886\n",
      "  0.1014336  -0.04910642 -0.15105078  0.12307284]\n"
     ]
    }
   ],
   "source": [
    "import copy\n",
    "import os\n",
    "import json\n",
    "import networkx as nx\n",
    "import matplotlib.pyplot as plt\n",
    "import numpy as np\n",
    "from node2vec import Node2Vec\n",
    "G = nx.karate_club_graph()\n",
    "\n",
    "# 训练Node2Vec模型\n",
    "node2vec = Node2Vec(G, dimensions=64, walk_length=30, num_walks=200, workers=4)\n",
    "\n",
    "# 获取节点嵌入\n",
    "model = node2vec.fit(window=10, min_count=1)\n",
    "\n",
    "# node_embeddings = {node: model.wv[node] for node in G.nodes()}\n",
    "#\n",
    "# # 输出节点向量\n",
    "# for node, embedding in node_embeddings.items():\n",
    "#     print(f\"Node {node}: {embedding}\")\n",
    "print(model.wv[1])"
   ],
   "metadata": {
    "collapsed": false
   }
  }
 ],
 "metadata": {
  "kernelspec": {
   "name": "graph_network",
   "language": "python",
   "display_name": "Graph_Network"
  },
  "language_info": {
   "codemirror_mode": {
    "name": "ipython",
    "version": 3
   },
   "file_extension": ".py",
   "mimetype": "text/x-python",
   "name": "python",
   "nbconvert_exporter": "python",
   "pygments_lexer": "ipython3",
   "version": "3.6.5"
  }
 },
 "nbformat": 4,
 "nbformat_minor": 5
}
